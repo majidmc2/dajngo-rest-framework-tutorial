{
 "cells": [
  {
   "cell_type": "markdown",
   "metadata": {},
   "source": [
    "<img src=\"pic/smilingpython.gif\"></img>"
   ]
  },
  {
   "cell_type": "markdown",
   "metadata": {},
   "source": [
    "   # PYTHON TUTORIAL\n",
    "\n",
    "   ## Majid Iranpour\n",
    "   ## Twitter: @_majidmc2"
   ]
  },
  {
   "cell_type": "markdown",
   "metadata": {},
   "source": [
    "<br>\n",
    "<hr>"
   ]
  },
  {
   "cell_type": "markdown",
   "metadata": {},
   "source": [
    "# What is Python?\n",
    "\n",
    "### Python is a popular programming language. It was created in 1991 by Guido van Rossum.\n",
    "\n",
    "## It is used for:\n",
    "\n",
    "    web development (server-side)\n",
    "    software development\n",
    "    mathematics\n",
    "    artificial intelligence\n",
    "    system scripting\n",
    "    \n",
    "## Why Python?\n",
    "\n",
    "    Python works on different platforms (Windows, Mac, Linux, Raspberry Pi, etc)\n",
    "    Python has a simple syntax similar to the English language\n",
    "    Python has syntax that allows developers to write programs with fewer lines than some other programming languages\n",
    "    Python runs on an interpreter system, meaning that code can be executed as soon as it is written. This means that        prototyping can be very quick\n",
    "    Python can be treated in a procedural way, an object-orientated way or a functional way\n",
    "\n"
   ]
  },
  {
   "cell_type": "markdown",
   "metadata": {},
   "source": [
    "<img src=\"pic/python-frameworks.jpg\">"
   ]
  },
  {
   "cell_type": "markdown",
   "metadata": {},
   "source": [
    "# Function "
   ]
  },
  {
   "cell_type": "code",
   "execution_count": 6,
   "metadata": {},
   "outputs": [],
   "source": [
    "def main():\n",
    "    print(\"Hello World\")\n",
    "    \n",
    "if __name__ == \"__main__\": \n",
    "    main()\n",
    "    \n",
    "    \n",
    "########################################\n",
    "    \n",
    "    \n",
    "def main(name):\n",
    "    print(\"Hello {}\".format(name))\n",
    "    \n",
    "if __name__ == \"__main__\": \n",
    "    n = input(\"Enter your name: \")\n",
    "    main(n)\n",
    "    \n",
    "    \n",
    "########################################\n",
    "\n",
    "\n",
    "def power(x, y=1):\n",
    "    result = x ** y\n",
    "        \n",
    "    print(\"Result {}\".format(result))\n",
    "    \n",
    "if __name__ == \"__main__\": \n",
    "    \n",
    "    x = 4\n",
    "    y = 2\n",
    "    power(x, y)\n",
    "\n",
    "    power(x=5, y=3)\n",
    "    \n",
    "    power(x=8)\n",
    "    "
   ]
  },
  {
   "cell_type": "markdown",
   "metadata": {},
   "source": [
    "<img src=\"pic/oprations1.png\">\n",
    "<br>\n",
    "<img src=\"pic/oprations2.png\">\n",
    "<br>\n",
    "<img src=\"pic/oprations3.png\">\n",
    "<br>\n",
    "<br>"
   ]
  },
  {
   "cell_type": "markdown",
   "metadata": {},
   "source": [
    "# Local and global Var"
   ]
  },
  {
   "cell_type": "code",
   "execution_count": null,
   "metadata": {},
   "outputs": [],
   "source": [
    "f = \"aaa\"\n",
    "print(f)\n",
    "\n",
    "def func():\n",
    "    global f\n",
    "    f = \"bbb\"\n",
    "    print(f)\n",
    "    \n",
    "func()\n",
    "print(f)"
   ]
  },
  {
   "cell_type": "markdown",
   "metadata": {},
   "source": [
    "\n",
    "\n",
    "\n",
    "\n",
    "\n",
    "# Built in Function"
   ]
  },
  {
   "cell_type": "markdown",
   "metadata": {},
   "source": [
    "<br>\n",
    "<img src=\"pic/built.png\">\n",
    "<br>\n",
    "<br>"
   ]
  },
  {
   "cell_type": "markdown",
   "metadata": {},
   "source": [
    "\n",
    "\n",
    "\n",
    "# Conditional Structures"
   ]
  },
  {
   "cell_type": "code",
   "execution_count": 7,
   "metadata": {
    "collapsed": true
   },
   "outputs": [
    {
     "name": "stdout",
     "output_type": "stream",
     "text": [
      "a > b\n",
      "a < b\n",
      "Result: a = b\n"
     ]
    }
   ],
   "source": [
    "############################ if - elif - else :\n",
    "def comp(a, b):\n",
    "    if (a<b):\n",
    "        res = \"a < b\"\n",
    "        \n",
    "    elif (a>b):\n",
    "        res = \"a > b\"\n",
    "    \n",
    "    else:\n",
    "        res = \"a = b\"\n",
    "    \n",
    "    return res\n",
    "\n",
    "\n",
    "result = comp(12, 4)\n",
    "print(result)\n",
    "\n",
    "print(comp(8, 16.5))\n",
    "\n",
    "print(\"Result: \" + comp(13.5, 13.5))\n",
    "\n",
    "\n",
    "\n",
    "def search(name):\n",
    "    if name[0] == \"m\" or name[0]==\"M\":\n",
    "        print(\"It is start with 'M'\")\n",
    "    \n",
    "    else:\n",
    "        print(\"Ops!!!\")\n",
    "\n",
    "search(\"Majid\")\n",
    "search(\"Ali\")\n",
    "\n",
    "\n",
    "\n",
    "############################ loops (while - for) :\n",
    "x = 0\n",
    "while(x != 20):\n",
    "    print(\"X is {}\".format(x))\n",
    "    x +=1\n",
    "    \n",
    "\n",
    "for i in range(0, 20):\n",
    "    print(\"X is {}\".format(i))\n",
    "    \n",
    "    \n",
    "    \n",
    "days = [\"Sun\", \"Mon\", \"Wen\", \"Fri\"]    \n",
    "for day in days:\n",
    "    print(day)\n",
    "for index, day in enumerate(days):\n",
    "    print(str(index) + \" ===> \" + day)\n",
    "\n",
    "    \n",
    "i = 0\n",
    "while i < 6:\n",
    "  i += 1\n",
    "  if i == 3:\n",
    "    continue  # or break\n",
    "  print(i)"
   ]
  },
  {
   "cell_type": "markdown",
   "metadata": {},
   "source": [
    "\n",
    "\n",
    "\n",
    "\n",
    "# Python Collections\n",
    "\n",
    "There are four collection data types in the Python programming language:\n",
    "\n",
    "    List is a collection which is ordered and changeable. Allows duplicate members.\n",
    "    Tuple is a collection which is ordered and unchangeable. Allows duplicate members.\n",
    "    Set is a collection which is unordered and unindexed. No duplicate members.\n",
    "    Dictionary is a collection which is unordered, changeable and indexed. No duplicate members.\n"
   ]
  },
  {
   "cell_type": "code",
   "execution_count": null,
   "metadata": {},
   "outputs": [],
   "source": [
    "####################################### List :\n",
    "thislist = [\"apple\", \"banana\", \"cherry\"]\n",
    "if \"apple\" in thislist:\n",
    "    print(\"Yes, 'apple' is in the fruits list\") \n",
    "    \n",
    "thislist.append(\"orange\")\n",
    "print(thislist)\n",
    "\n",
    "thislist.insert(1, \"orange\")\n",
    "print(thislist)\n",
    "\n",
    "thislist.remove(\"banana\")\n",
    "print(thislist)\n",
    "\n",
    "thislist.pop()\n",
    "print(thislist)\n",
    "\n",
    "del thislist[0]\n",
    "print(thislist)\n",
    "\n",
    "thislist.clear()\n",
    "print(thislist)\n",
    "\n",
    "del thislist \n",
    "\n",
    "\n",
    "####################################### Tuple :\n",
    "thistuple = (\"apple\", \"banana\", \"cherry\")\n",
    "print(thistuple)\n",
    "for x in thistuple:\n",
    "    print(x)\n",
    "\n",
    "thistuple = (\"apple\", \"banana\", \"cherry\")\n",
    "print(thistuple[1])\n",
    "\n",
    "# TypeError: 'tuple' object does not support item assignment\n",
    "thistuple[1] = \"blackcurrant\"\n",
    "print(thistuple)\n",
    "\n",
    "\n",
    "####################################### Set :\n",
    "thisset = {\"apple\", \"banana\", \"cherry\"}\n",
    "\n",
    "thisset.add(\"orange\")\n",
    "print(thisset) \n",
    "\n",
    "thisset.remove(\"banana\")\n",
    "print(thisset) \n",
    "\n",
    "x = thisset.pop()\n",
    "print(x)\n",
    "print(thisset) \n",
    "\n",
    "\n",
    "####################################### Dictionary :\n",
    "\n",
    "thisdict =\t{\"brand\": \"Ford\", \"model\": \"Mustang\", \"year\": 1964}\n",
    "print(thisdict)\n",
    "\n",
    "print(thisdict[\"year\"])\n",
    "thisdict[\"year\"] = 2018\n",
    "print(thisdict)\n",
    "\n",
    "for x, y in thisdict.items():\n",
    "    print(x, y) \n",
    "    \n",
    "thisdict.pop(\"model\")\n",
    "print(thisdict) \n",
    "\n",
    "\n"
   ]
  },
  {
   "cell_type": "markdown",
   "metadata": {},
   "source": [
    "# Classes/Objects"
   ]
  },
  {
   "cell_type": "code",
   "execution_count": null,
   "metadata": {},
   "outputs": [],
   "source": [
    "class MyClass:\n",
    "    x = 5\n",
    "\n",
    "p1 = MyClass()\n",
    "print(p1.x) \n",
    "\n",
    "########################################\n",
    "\n",
    "class Person:\n",
    "    def __init__(self, name, age):\n",
    "        \"\"\"\n",
    "        The __init__() function is called automatically every time the class is being used to create a new object.\n",
    "        \"\"\"\n",
    "        self.name = name\n",
    "        self.age = age\n",
    "\n",
    "p1 = Person(\"Majid\", 22)\n",
    "\n",
    "print(p1.name)\n",
    "print(p1.age) \n",
    "\n",
    "########################################\n",
    "\n",
    "class Person:\n",
    "    def __init__(self, name, age):\n",
    "        self.name = name\n",
    "        self.age = age\n",
    "\n",
    "    def myfunc(self):\n",
    "        print(\"Hello my name is \" + self.name)\n",
    "\n",
    "p1 = Person(\"Ali\", 19)\n",
    "p1.myfunc() \n",
    "\n",
    "########################################\n",
    "\n",
    "class Oprate:\n",
    "    def __init__(self, x, y):\n",
    "        self.num1 = x\n",
    "        self.num2 = y\n",
    "    \n",
    "    def execute(self, *oprate):\n",
    "        print(\"Start {} \".format(*oprate))\n",
    "\n",
    "\n",
    "class Add(Oprate):\n",
    "    def execute(self, *oprate):\n",
    "        super().execute('Add')\n",
    "        return self.num1 + self.num2\n",
    "    \n",
    "    \n",
    "class Multiply(Oprate):\n",
    "    def execute(self, *oprate):\n",
    "        super().execute('Multiply')\n",
    "        return self.num1 * self.num2\n",
    "    \n",
    "opr1 = Add(4, 9)\n",
    "print(opr1.execute())\n",
    "opr2 = Multiply(3, 5)\n",
    "print(opr2.execute())\n",
    "\n",
    "\n"
   ]
  },
  {
   "cell_type": "markdown",
   "metadata": {},
   "source": [
    "\n",
    "\n",
    "\n",
    "\n",
    "\n",
    "\n",
    "# IMPORT"
   ]
  },
  {
   "cell_type": "code",
   "execution_count": null,
   "metadata": {},
   "outputs": [],
   "source": [
    "import datetime\n",
    "\n",
    "oTime = datetime.datetime.now()\n",
    "print(oTime)\n",
    "\n",
    "\n",
    "\n",
    "######################################\n",
    "import platform\n",
    "\n",
    "x = platform.system()\n",
    "print(x) \n",
    "\n",
    "\n",
    "#####################################\n",
    "# Save this code in a file named mymodule.py\n",
    "def greeting(name):\n",
    "  print(\"Hello, \" + name) \n",
    "\n",
    "# Import the module named mymodule, and call the greeting function:\n",
    "import mymodule\n",
    "\n",
    "mymodule.greeting(\"Majid-Iranpour\")\n",
    "\n",
    "\n",
    "#####################################\n",
    "# Save this code in the file mymodule.py\n",
    "person1 = {\n",
    "  \"name\": \"Majid\",\n",
    "  \"age\": 22,\n",
    "  \"country\": \"IRAN\"\n",
    "}\n",
    "person2 = {\n",
    "  \"name\": \"ALi\",\n",
    "  \"age\": 20,\n",
    "  \"country\": \"USA\"\n",
    "}\n",
    "\n",
    "# Import the module named mymodule, and access the person1 dictionary:\n",
    "import mymodule\n",
    "\n",
    "age1 = mymodule.person1[\"age\"]\n",
    "print(age1) \n",
    "\n"
   ]
  },
  {
   "cell_type": "markdown",
   "metadata": {},
   "source": [
    "# JSON"
   ]
  },
  {
   "cell_type": "code",
   "execution_count": null,
   "metadata": {},
   "outputs": [],
   "source": [
    "import json\n",
    "\n",
    "# the JSON object must be str\n",
    "x =  '{\"name\": \"John\", \"age\": 30, \"city\": \"New York\"}'\n",
    "y = json.loads(x)\n",
    "\n",
    "print(y[\"age\"]) \n",
    "\n",
    "#######################################################\n",
    "\n",
    "import json\n",
    "\n",
    "x = {\n",
    "  \"name\": \"John\",\n",
    "  \"age\": 30,\n",
    "  \"city\": \"New York\"\n",
    "}\n",
    "y = json.dumps(x)\n",
    "\n",
    "print(y) "
   ]
  },
  {
   "cell_type": "markdown",
   "metadata": {},
   "source": [
    "<img src='pic/json.png'>"
   ]
  },
  {
   "cell_type": "code",
   "execution_count": null,
   "metadata": {},
   "outputs": [],
   "source": [
    "import json\n",
    "\n",
    "x = {\n",
    "  \"name\": \"John\",\n",
    "  \"age\": 30,\n",
    "  \"married\": True,\n",
    "  \"divorced\": False,\n",
    "  \"children\": (\"Ann\",\"Billy\"),\n",
    "  \"pets\": None,\n",
    "  \"cars\": [\n",
    "    {\"model\": \"BMW 230\", \"mpg\": 27.5},\n",
    "    {\"model\": \"Ford Edge\", \"mpg\": 24.1}\n",
    "  ]\n",
    "}\n",
    "\n",
    "print(json.dumps(x))"
   ]
  },
  {
   "cell_type": "markdown",
   "metadata": {},
   "source": [
    "# RegEx"
   ]
  },
  {
   "cell_type": "code",
   "execution_count": null,
   "metadata": {},
   "outputs": [],
   "source": [
    "import re\n",
    "\n",
    "txt = \"The rain in Spain\"\n",
    "x = re.search(\"^The.*Spain$\", txt) \n",
    "if x:\n",
    "    print(\"OK\")"
   ]
  },
  {
   "cell_type": "markdown",
   "metadata": {},
   "source": [
    "<img src='pic/regex.png'>"
   ]
  },
  {
   "cell_type": "code",
   "execution_count": null,
   "metadata": {},
   "outputs": [],
   "source": [
    "import re\n",
    "\n",
    "str = \"The rain in Spain\"\n",
    "x = re.split(\"\\s\", str)\n",
    "print(x) \n",
    "\n",
    "\n",
    "#################################\n",
    "\n",
    "\n",
    "import re\n",
    "\n",
    "# Replace every white-space character with the number 9\n",
    "str = \"The rain in Spain\"\n",
    "x = re.sub(\"\\s\", \"9\", str) \n",
    "print(x) \n",
    "\n"
   ]
  }
 ],
 "metadata": {
  "kernelspec": {
   "display_name": "Python 3",
   "language": "python",
   "name": "python3"
  },
  "language_info": {
   "codemirror_mode": {
    "name": "ipython",
    "version": 3
   },
   "file_extension": ".py",
   "mimetype": "text/x-python",
   "name": "python",
   "nbconvert_exporter": "python",
   "pygments_lexer": "ipython3",
   "version": "3.8.2"
  }
 },
 "nbformat": 4,
 "nbformat_minor": 2
}
