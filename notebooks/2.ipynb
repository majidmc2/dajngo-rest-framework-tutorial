{
 "cells": [
  {
   "cell_type": "markdown",
   "metadata": {},
   "source": [
    "<img src='pic/logo.png'/>"
   ]
  },
  {
   "cell_type": "markdown",
   "metadata": {},
   "source": [
    "   # DJANGO-REST-FRAMEWORK TUTORIAL\n",
    "   \n",
    "   ## Majid Iranpour\n",
    "   ## Twitter: @_majidmc2\n",
    "   <br><br><br>\n",
    "   <hr>\n",
    "   <br><br><br>\n",
    "   "
   ]
  },
  {
   "cell_type": "markdown",
   "metadata": {},
   "source": [
    "<img src='pic/architecture.png'/>"
   ]
  },
  {
   "cell_type": "markdown",
   "metadata": {},
   "source": [
    "# How to install virtualenv:\n",
    "## Install pip first\n",
    "\n",
    "$ sudo apt-get install python3-pip\n",
    "\n",
    "## Then install virtualenv using pip3\n",
    "\n",
    "$ sudo pip3 install virtualenv \n",
    "\n",
    "## Create virtualenv using Python3\n",
    "\n",
    "$ virtualenv venv --python=python3 \n",
    "\n",
    "## Active your virtual environment:\n",
    "\n",
    "$ source venv/bin/activate\n",
    "\n",
    "## To deactivate:\n",
    "\n",
    "$ deactivate\n",
    "\n",
    "\n"
   ]
  },
  {
   "cell_type": "markdown",
   "metadata": {},
   "source": [
    "# Install Django and Django REST framework into the virtualenv\n",
    " \n",
    "$ pip install django  \n",
    "\n",
    "$ pip install djangorestframework"
   ]
  },
  {
   "cell_type": "markdown",
   "metadata": {},
   "source": [
    "# Set up a new project with a single application\n",
    "\n",
    "$ django-admin startproject myPro\n",
    "\n",
    "$ cd myPro\n",
    "\n",
    "$ django-admin startapp myApp\n",
    "\n",
    "$ cd .."
   ]
  },
  {
   "cell_type": "markdown",
   "metadata": {},
   "source": [
    "# Now sync your database for the first time:\n",
    "\n",
    "$ python manage.py migrate\n"
   ]
  },
  {
   "cell_type": "markdown",
   "metadata": {},
   "source": [
    "# We'll create an initial user named admin \n",
    "\n",
    "$ python manage.py createsuperuser\n"
   ]
  },
  {
   "cell_type": "markdown",
   "metadata": {},
   "source": [
    "# Settings\n",
    "\n",
    "Add 'rest_framework' to INSTALLED_APPS. The settings module will be in myPro/settings.py"
   ]
  },
  {
   "cell_type": "code",
   "execution_count": 5,
   "metadata": {
    "collapsed": true
   },
   "outputs": [
    {
     "ename": "SyntaxError",
     "evalue": "invalid syntax (<ipython-input-5-4090890fd691>, line 3)",
     "output_type": "error",
     "traceback": [
      "\u001b[0;36m  File \u001b[0;32m\"<ipython-input-5-4090890fd691>\"\u001b[0;36m, line \u001b[0;32m3\u001b[0m\n\u001b[0;31m    'rest_framework',\u001b[0m\n\u001b[0m                   ^\u001b[0m\n\u001b[0;31mSyntaxError\u001b[0m\u001b[0;31m:\u001b[0m invalid syntax\n"
     ]
    }
   ],
   "source": [
    "INSTALLED_APPS = (\n",
    "    ...\n",
    "    'rest_framework',\n",
    "    'myApp',\n",
    "\n",
    ")"
   ]
  },
  {
   "cell_type": "markdown",
   "metadata": {},
   "source": [
    "# Function Based Views"
   ]
  },
  {
   "cell_type": "code",
   "execution_count": null,
   "metadata": {},
   "outputs": [],
   "source": [
    "# in myApp.views\n",
    "\n",
    "from rest_framework.decorators import api_view\n",
    "from rest_framework.response import Response\n",
    "\n",
    "\n",
    "@api_view()\n",
    "def hello_world(request):\n",
    "    return Response({\"message\": \"Hello, world!\"})"
   ]
  },
  {
   "cell_type": "markdown",
   "metadata": {},
   "source": [
    "# Router"
   ]
  },
  {
   "cell_type": "markdown",
   "metadata": {},
   "source": [
    "<img src='pic/Router.png'/>"
   ]
  },
  {
   "cell_type": "code",
   "execution_count": null,
   "metadata": {},
   "outputs": [],
   "source": [
    "# in myPro.urls\n",
    "from django.urls import path, include\n",
    "\n",
    "\n",
    "urlpatterns = [\n",
    "    path('', include('myApp.urls'), name='my-app'),\n",
    "]\n",
    "\n",
    "\n",
    "#########################################################\n",
    "# in myAPp.urls\n",
    "from django.urls import path\n",
    "from myApp import views\n",
    "\n",
    "urlpatterns = [\n",
    "    path(r'hello-world', views.hello_world, name='hello-world'),\n",
    "]\n"
   ]
  },
  {
   "cell_type": "markdown",
   "metadata": {},
   "source": [
    "# Send data to server"
   ]
  },
  {
   "cell_type": "code",
   "execution_count": 5,
   "metadata": {
    "collapsed": true
   },
   "outputs": [
    {
     "ename": "NameError",
     "evalue": "name 'api_view' is not defined",
     "output_type": "error",
     "traceback": [
      "\u001b[0;31m---------------------------------------------------------------------------\u001b[0m",
      "\u001b[0;31mNameError\u001b[0m                                 Traceback (most recent call last)",
      "\u001b[0;32m<ipython-input-5-ed12c455d49e>\u001b[0m in \u001b[0;36m<module>\u001b[0;34m\u001b[0m\n\u001b[1;32m      1\u001b[0m \u001b[0;31m# in myApp.views\u001b[0m\u001b[0;34m\u001b[0m\u001b[0;34m\u001b[0m\u001b[0;34m\u001b[0m\u001b[0m\n\u001b[1;32m      2\u001b[0m \u001b[0;34m\u001b[0m\u001b[0m\n\u001b[0;32m----> 3\u001b[0;31m \u001b[0;34m@\u001b[0m\u001b[0mapi_view\u001b[0m\u001b[0;34m(\u001b[0m\u001b[0;34m[\u001b[0m\u001b[0;34m'GET'\u001b[0m\u001b[0;34m,\u001b[0m \u001b[0;34m'POST'\u001b[0m\u001b[0;34m]\u001b[0m\u001b[0;34m)\u001b[0m\u001b[0;34m\u001b[0m\u001b[0;34m\u001b[0m\u001b[0m\n\u001b[0m\u001b[1;32m      4\u001b[0m \u001b[0;32mdef\u001b[0m \u001b[0mhello\u001b[0m\u001b[0;34m(\u001b[0m\u001b[0mrequest\u001b[0m\u001b[0;34m)\u001b[0m\u001b[0;34m:\u001b[0m\u001b[0;34m\u001b[0m\u001b[0;34m\u001b[0m\u001b[0m\n\u001b[1;32m      5\u001b[0m     \u001b[0;32mif\u001b[0m \u001b[0mrequest\u001b[0m\u001b[0;34m.\u001b[0m\u001b[0mmethod\u001b[0m \u001b[0;34m==\u001b[0m \u001b[0;34m'POST'\u001b[0m\u001b[0;34m:\u001b[0m\u001b[0;34m\u001b[0m\u001b[0;34m\u001b[0m\u001b[0m\n",
      "\u001b[0;31mNameError\u001b[0m: name 'api_view' is not defined"
     ]
    }
   ],
   "source": [
    "# in myApp.views\n",
    "\n",
    "@api_view(['GET', 'POST'])\n",
    "def hello(request):\n",
    "    if request.method == 'POST':\n",
    "        return Response({\"message\": \"Hello, world!\", \"data\": request.data['name']})\n",
    "    return Response({\"message\": \"Hello, world!\"})"
   ]
  },
  {
   "cell_type": "markdown",
   "metadata": {},
   "source": [
    "# django browsable api\n",
    "\n",
    "<br><br>\n",
    " \n",
    "<img src=\"pic/browsable.png\">"
   ]
  },
  {
   "cell_type": "markdown",
   "metadata": {},
   "source": [
    "# Example:\n",
    "## Calculator\n",
    " "
   ]
  },
  {
   "cell_type": "code",
   "execution_count": null,
   "metadata": {},
   "outputs": [],
   "source": [
    "from rest_framework import status\n",
    "\n",
    "\n",
    "@api_view(['POST'])\n",
    "def calculator(request):\n",
    "    try:\n",
    "        operand = request.data['operand']\n",
    "        number1 = request.data['number1']\n",
    "        number2 = request.data['number2']\n",
    "\n",
    "    except:\n",
    "        return Response({\"error\": \"send number1 and number2 and operand\"}, status=status.HTTP_400_BAD_REQUEST)\n",
    "\n",
    "    else:\n",
    "        if isinstance(number1, int) and isinstance(number2, int):\n",
    "\n",
    "            if operand == \"add\":\n",
    "                return Response({\"error\": number1 + number2}, status=status.HTTP_200_OK)\n",
    "\n",
    "            elif operand == \"sub\":\n",
    "                return Response({\"error\": number1 - number2}, status=status.HTTP_200_OK)\n",
    "\n",
    "            elif operand == \"mul\":\n",
    "                return Response({\"error\": number1 * number2}, status=status.HTTP_200_OK)\n",
    "\n",
    "            elif operand == \"div\":\n",
    "                return Response({\"error\": number1 / number2}, status=status.HTTP_200_OK)\n",
    "\n",
    "            else:\n",
    "                return Response({\"error\": \"send a valid operand\"}, status=status.HTTP_400_BAD_REQUEST)\n",
    "\n",
    "        else:\n",
    "            return Response({\"error\": \"send integer values\"}, status=status.HTTP_400_BAD_REQUEST)\n",
    "\n",
    "    \"\"\" TEST\n",
    "        {\n",
    "        \"number1\":4,\n",
    "        \"number2\":5,\n",
    "        \"operand\":\"add\"\n",
    "        }\n",
    "    \"\"\""
   ]
  },
  {
   "cell_type": "markdown",
   "metadata": {},
   "source": [
    "# HTTP Status Codes\n",
    "\n",
    "<br><br>\n",
    "\n",
    "## Informational - 1xx\n",
    "<img src=\"pic/Informational - 1xx.png\">\n",
    "\n",
    "## Successful - 2xx\n",
    "<img src=\"pic/Successful - 2xx.png\">\n",
    "\n",
    "## Redirection - 3xx\n",
    "<img src=\"pic/Redirection - 3xx.png\">\n",
    "\n",
    "## Client Error - 4xx\n",
    "<img src=\"pic/Client Error - 4xx.png\">\n",
    "\n",
    "## Server Error - 5xx\n",
    "<img src=\"pic/Server Error - 5xx.png\">"
   ]
  }
 ],
 "metadata": {
  "kernelspec": {
   "display_name": "Python 3",
   "language": "python",
   "name": "python3"
  },
  "language_info": {
   "codemirror_mode": {
    "name": "ipython",
    "version": 3
   },
   "file_extension": ".py",
   "mimetype": "text/x-python",
   "name": "python",
   "nbconvert_exporter": "python",
   "pygments_lexer": "ipython3",
   "version": "3.8.2"
  }
 },
 "nbformat": 4,
 "nbformat_minor": 2
}
