{
 "cells": [
  {
   "cell_type": "markdown",
   "metadata": {},
   "source": [
    "<img src='pic/logo.png'/>\n"
   ]
  },
  {
   "cell_type": "markdown",
   "metadata": {},
   "source": [
    "   # DJANGO-REST-FRAMEWORK TUTORIAL\n",
    "   \n",
    "   ## Majid Iranpour\n",
    "   ## Twitter: @_majidmc2\n",
    "<br><br><br>\n",
    "   <hr>\n",
    "   <br><br><br>\n",
    "   "
   ]
  },
  {
   "cell_type": "markdown",
   "metadata": {},
   "source": [
    "# @api_view and Models"
   ]
  },
  {
   "cell_type": "markdown",
   "metadata": {},
   "source": [
    "## Example (Employess):\n",
    " "
   ]
  },
  {
   "cell_type": "markdown",
   "metadata": {},
   "source": [
    "###  models.py:"
   ]
  },
  {
   "cell_type": "code",
   "execution_count": null,
   "metadata": {},
   "outputs": [],
   "source": [
    "from django.db import models\n",
    "\n",
    "\n",
    "class Employ(models.Model):\n",
    "    name = models.CharField(max_length=40)\n",
    "    age = models.IntegerField()\n",
    "    salary = models.IntegerField()\n",
    "    post = models.CharField(max_length=30)\n",
    "    created_at = models.DateTimeField(null=True, blank=True)\n",
    "    updated_at = models.DateTimeField(null=True, blank=True)\n",
    "\n",
    "    def __str__(self):\n",
    "        return self.name\n"
   ]
  },
  {
   "cell_type": "markdown",
   "metadata": {},
   "source": [
    "### serializers.py"
   ]
  },
  {
   "cell_type": "code",
   "execution_count": null,
   "metadata": {},
   "outputs": [],
   "source": [
    "from rest_framework import serializers\n",
    "from .models import Employ\n",
    "\n",
    "\n",
    "class EmploySerializer(serializers.ModelSerializer):\n",
    "    class Meta:\n",
    "        model = Employ\n",
    "        fields = '__all__'  # fields = ('id', 'name', 'age', 'salary', 'post', 'created_at', 'updated_at')\n",
    "\n",
    "    def validate_name(self, value):\n",
    "        if value == \"Ahmad\":\n",
    "            raise serializers.ValidationError(\"He's blocked!!!\")\n",
    "        return value\n",
    "\n",
    "    #     def save(self):\n",
    "    #         name = self.validated_data['name']\n",
    "    #         print(\"SAVE {}\".format(name))\n",
    "\n",
    "    def create(self, validated_data):\n",
    "        instance = super().create(validated_data)\n",
    "\n",
    "        instance.created_at = timezone.now()\n",
    "        instance.save()\n",
    "        return instance\n",
    "\n",
    "    def update(self, instance, validated_data):\n",
    "        old_created_at = instance.created_at\n",
    "\n",
    "        new_instance = super().create(validated_data, validated_data)\n",
    "\n",
    "        new_instance.created_at = old_created_at\n",
    "        new_instance.updated_at = timezone.now()\n",
    "        new_instance.save()\n",
    "        return new_instance\n",
    "  "
   ]
  },
  {
   "cell_type": "markdown",
   "metadata": {},
   "source": [
    "### views.py\n",
    "\n",
    "#### POST Request"
   ]
  },
  {
   "cell_type": "code",
   "execution_count": null,
   "metadata": {},
   "outputs": [],
   "source": [
    "from .models import Employ\n",
    "from .serializers import EmploySerializer\n",
    "\n",
    "from rest_framework import status\n",
    "\n",
    "\n",
    "@api_view(['POST'])\n",
    "def post_employ(request):\n",
    "\n",
    "    data = {\n",
    "        'name': request.data['name'],\n",
    "        'age': request.data['age'],\n",
    "        'salary': request.data['salary'],\n",
    "        'post': request.data['post']\n",
    "    }\n",
    "    serializer = EmploySerializer(data=data)\n",
    "    if serializer.is_valid():\n",
    "        serializer.save()\n",
    "        return Response(serializer.data, status=status.HTTP_201_CREATED)\n",
    "    return Response(serializer.errors, status=status.HTTP_400_BAD_REQUEST)\n"
   ]
  },
  {
   "cell_type": "markdown",
   "metadata": {},
   "source": [
    "#### GET All Request"
   ]
  },
  {
   "cell_type": "code",
   "execution_count": 1,
   "metadata": {
    "collapsed": true
   },
   "outputs": [
    {
     "ename": "NameError",
     "evalue": "name 'api_view' is not defined",
     "output_type": "error",
     "traceback": [
      "\u001b[0;31m---------------------------------------------------------------------------\u001b[0m",
      "\u001b[0;31mNameError\u001b[0m                                 Traceback (most recent call last)",
      "\u001b[0;32m<ipython-input-1-56c085c7bc37>\u001b[0m in \u001b[0;36m<module>\u001b[0;34m\u001b[0m\n\u001b[0;32m----> 1\u001b[0;31m \u001b[0;34m@\u001b[0m\u001b[0mapi_view\u001b[0m\u001b[0;34m(\u001b[0m\u001b[0;34m[\u001b[0m\u001b[0;34m'GET'\u001b[0m\u001b[0;34m]\u001b[0m\u001b[0;34m)\u001b[0m\u001b[0;34m\u001b[0m\u001b[0;34m\u001b[0m\u001b[0m\n\u001b[0m\u001b[1;32m      2\u001b[0m \u001b[0;32mdef\u001b[0m \u001b[0mget_all_employees\u001b[0m\u001b[0;34m(\u001b[0m\u001b[0mrequest\u001b[0m\u001b[0;34m)\u001b[0m\u001b[0;34m:\u001b[0m\u001b[0;34m\u001b[0m\u001b[0;34m\u001b[0m\u001b[0m\n\u001b[1;32m      3\u001b[0m     \u001b[0memployees\u001b[0m \u001b[0;34m=\u001b[0m \u001b[0mEmploy\u001b[0m\u001b[0;34m.\u001b[0m\u001b[0mobjects\u001b[0m\u001b[0;34m.\u001b[0m\u001b[0mall\u001b[0m\u001b[0;34m(\u001b[0m\u001b[0;34m)\u001b[0m\u001b[0;34m\u001b[0m\u001b[0;34m\u001b[0m\u001b[0m\n\u001b[1;32m      4\u001b[0m     \u001b[0mserializer\u001b[0m \u001b[0;34m=\u001b[0m \u001b[0mEmploySerializer\u001b[0m\u001b[0;34m(\u001b[0m\u001b[0memployees\u001b[0m\u001b[0;34m,\u001b[0m \u001b[0mmany\u001b[0m\u001b[0;34m=\u001b[0m\u001b[0;32mTrue\u001b[0m\u001b[0;34m)\u001b[0m\u001b[0;34m\u001b[0m\u001b[0;34m\u001b[0m\u001b[0m\n\u001b[1;32m      5\u001b[0m     \u001b[0;32mreturn\u001b[0m \u001b[0mResponse\u001b[0m\u001b[0;34m(\u001b[0m\u001b[0mserializer\u001b[0m\u001b[0;34m.\u001b[0m\u001b[0mdata\u001b[0m\u001b[0;34m)\u001b[0m\u001b[0;34m\u001b[0m\u001b[0;34m\u001b[0m\u001b[0m\n",
      "\u001b[0;31mNameError\u001b[0m: name 'api_view' is not defined"
     ]
    }
   ],
   "source": [
    "@api_view(['GET'])\n",
    "def get_all_employees(request):\n",
    "    employees = Employ.objects.all()\n",
    "    serializer = EmploySerializer(employees, many=True)\n",
    "    return Response(serializer.data, status=status.HTTP_200_OK)"
   ]
  },
  {
   "cell_type": "markdown",
   "metadata": {},
   "source": [
    "#### GET Single and UPDATE and DELETE Request"
   ]
  },
  {
   "cell_type": "code",
   "execution_count": null,
   "metadata": {},
   "outputs": [],
   "source": [
    "@api_view(['GET', 'PUT', 'DELETE'])\n",
    "def get_delete_update_employ(request, pk):\n",
    "    \n",
    "    try:\n",
    "        employ = Employ.objects.get(pk=pk)\n",
    "    except Employ.DoesNotExist:\n",
    "        return Response(status=status.HTTP_404_NOT_FOUND)\n",
    "\n",
    "    if request.method == 'GET':\n",
    "        serializer = EmploySerializer(employ)\n",
    "        return Response(serializer.data, status=status.HTTP_200_OK)\n",
    "\n",
    "    if request.method == 'PUT':\n",
    "        serializer = EmploySerializer(employ, data=request.data)\n",
    "        if serializer.is_valid():\n",
    "            serializer.save()\n",
    "            return Response(serializer.data, status=status.HTTP_200_OK)\n",
    "        return Response(serializer.errors, status=status.HTTP_400_BAD_REQUEST)\n",
    "\n",
    "    if request.method == 'DELETE':\n",
    "        employ.delete()\n",
    "        return Response(status=status.HTTP_204_NO_CONTENT)"
   ]
  },
  {
   "cell_type": "markdown",
   "metadata": {},
   "source": [
    "#### Search\n"
   ]
  },
  {
   "cell_type": "code",
   "execution_count": null,
   "metadata": {},
   "outputs": [],
   "source": [
    "@api_view(['GET'])\n",
    "def search_employ(request):\n",
    "\n",
    "    try:\n",
    "        employees = Employ.objects.all().filter(name=request.query_params['name'])\n",
    "    except Employ.DoesNotExist:\n",
    "        return Response(status=status.HTTP_404_NOT_FOUND)\n",
    "\n",
    "    serializer = EmploySerializer(employees, many=True)\n",
    "    return Response(serializer.data, status=status.HTTP_200_OK)\n"
   ]
  },
  {
   "cell_type": "markdown",
   "metadata": {},
   "source": [
    "### urls.py"
   ]
  },
  {
   "cell_type": "code",
   "execution_count": null,
   "metadata": {},
   "outputs": [],
   "source": [
    "urlpatterns = [\n",
    "    .\n",
    "    .\n",
    "    .\n",
    "    path(r'post_employ', views.post_employ, name='post_employ'),\n",
    "    path(r'get_all_employees', views.get_all_employees, name='get_all_employees'),\n",
    "    path(r'get_delete_update_employ/<int:pk>', views.get_delete_update_employ, name='get_delete_update_employ'),\n",
    "    path(r'search_employ', views.search_employ, name='search_employ'),\n",
    "    .\n",
    "    .\n",
    "    .\n",
    "]\n"
   ]
  },
  {
   "cell_type": "markdown",
   "metadata": {},
   "source": [
    "# Serializer\n",
    "## Example(Serveres):\n",
    "### models.py:"
   ]
  },
  {
   "cell_type": "code",
   "execution_count": null,
   "metadata": {},
   "outputs": [],
   "source": [
    "    \n",
    "class Server(models.Model):\n",
    "    employ = models.ForeignKey(Employ, on_delete=models.CASCADE)\n",
    "    server_name = models.CharField(max_length=40)\n",
    "    \n",
    "    def __str__(self):\n",
    "        return self.server_name\n"
   ]
  },
  {
   "cell_type": "markdown",
   "metadata": {},
   "source": [
    "### serializers.py:"
   ]
  },
  {
   "cell_type": "code",
   "execution_count": null,
   "metadata": {},
   "outputs": [],
   "source": [
    "    \n",
    "class WriteServerSerializer(serializers.ModelSerializer):\n",
    "    class Meta:\n",
    "        model = Server\n",
    "        fields = '__all__'\n",
    "\n",
    "\n",
    "class ReadServerSerializer(serializers.ModelSerializer):\n",
    "    class Meta:\n",
    "        model = Server\n",
    "        fields = '__all__'\n",
    "        depth = 1\n"
   ]
  },
  {
   "cell_type": "markdown",
   "metadata": {},
   "source": [
    "### views.py\n",
    "\n"
   ]
  },
  {
   "cell_type": "code",
   "execution_count": null,
   "metadata": {},
   "outputs": [],
   "source": [
    "\n",
    "@api_view(['POST'])\n",
    "def post_server_and_employ(request):\n",
    "    employ_data = {\n",
    "        'name': request.data['employ']['name'],\n",
    "        'age': request.data['employ']['age'],\n",
    "        'salary': request.data['employ']['salary'],\n",
    "        'post': request.data['employ']['post'],\n",
    "    }\n",
    "\n",
    "    employ_serializer = EmploySerializer(data=employ_data)\n",
    "\n",
    "    if employ_serializer.is_valid():\n",
    "        employ_serializer.save()\n",
    "    else:\n",
    "        return Response(employ_serializer.errors, status=status.HTTP_400_BAD_REQUEST)\n",
    "\n",
    "    server_data = {\n",
    "        'server_name': request.data['server_name'],\n",
    "        'employ': employ_serializer.data['id']\n",
    "    }\n",
    "\n",
    "    server_serializer = WriteServerSerializer(data=server_data)\n",
    "\n",
    "    if server_serializer.is_valid():\n",
    "        server_serializer.save()\n",
    "        return Response(server_serializer.data, status=status.HTTP_201_CREATED)\n",
    "\n",
    "    return Response(server_serializer.errors, status=status.HTTP_400_BAD_REQUEST)\n",
    "\n",
    "\n",
    "\"\"\"\n",
    "{\n",
    "    \"server_name\":\"dhcp\",\n",
    "    \"employ\":{\n",
    "        \"name\":\"Hassan\",\n",
    "        \"age\":30,\n",
    "        \"salary\":5000,\n",
    "        \"post\":\"DEV\"\n",
    "    }\n",
    "}\n",
    "\"\"\"\n",
    "\n",
    "\n",
    "@api_view(['POST'])\n",
    "def post_server(request):\n",
    "    try:\n",
    "        employ = Employ.objects.filter(name=request.data['employ'])[0]\n",
    "    except Employ.DoesNotExist:\n",
    "        return Response({\"error\": \"user not found!\"}, status=status.HTTP_404_NOT_FOUND)\n",
    "\n",
    "    server_data = {\n",
    "        'server_name': request.data['server_name'],\n",
    "        'employ': employ.id\n",
    "    }\n",
    "\n",
    "    serializer = WriteServerSerializer(data=server_data)\n",
    "\n",
    "    if serializer.is_valid():\n",
    "        serializer.save()\n",
    "        return Response(serializer.data, status=status.HTTP_201_CREATED)\n",
    "\n",
    "    return Response(serializer.errors, status=status.HTTP_400_BAD_REQUEST)\n",
    "\n",
    "\n",
    "\"\"\"\n",
    "{\n",
    "    \"server_name\":\"dnc\",\n",
    "    \"employ\":\"Hassan\"\n",
    "}\n",
    "\"\"\"\n",
    "\n",
    "\n",
    "@api_view(['GET'])\n",
    "def get_all_servers(request):\n",
    "    employees = Server.objects.all()\n",
    "    serializer = ReadServerSerializer(employees, many=True)\n",
    "    return Response(serializer.data, status=status.HTTP_200_OK)\n"
   ]
  },
  {
   "cell_type": "markdown",
   "metadata": {},
   "source": [
    "### urls.py"
   ]
  },
  {
   "cell_type": "code",
   "execution_count": null,
   "metadata": {},
   "outputs": [],
   "source": [
    "urlpatterns = [\n",
    "    .\n",
    "    .\n",
    "    .\n",
    "    path(r'post_server_and_employ', views.post_server_and_employ, name='post_server_and_employ'),\n",
    "    path(r'post_server', views.post_server, name='post_server'),\n",
    "    path(r'get_all_servers', views.get_all_servers, name='get_all_servers'),\n",
    "    .\n",
    "    .\n",
    "    .\n",
    "]\n"
   ]
  },
  {
   "cell_type": "markdown",
   "metadata": {},
   "source": [
    "# ModelViewSet\n",
    "\n",
    "## Example(Book):"
   ]
  },
  {
   "cell_type": "markdown",
   "metadata": {},
   "source": [
    "### models.py"
   ]
  },
  {
   "cell_type": "code",
   "execution_count": null,
   "metadata": {},
   "outputs": [],
   "source": [
    "from django.db import models\n",
    "\n",
    "\n",
    "class Book(models.Model):\n",
    "    name = models.CharField(max_length=40)\n",
    "    pages = models.IntegerField()\n",
    "    auther = models.CharField(max_length=30)\n",
    "    type = models.CharField(max_length=30)\n",
    "    created_at = models.DateTimeField(auto_now_add=True)\n",
    "\n",
    "    def __str__(self):\n",
    "        return self.name"
   ]
  },
  {
   "cell_type": "markdown",
   "metadata": {},
   "source": [
    "### serializers.py:"
   ]
  },
  {
   "cell_type": "code",
   "execution_count": null,
   "metadata": {},
   "outputs": [],
   "source": [
    "from rest_framework import serializers\n",
    "from .models import Book\n",
    "\n",
    "\n",
    "class BookSerializer(serializers.ModelSerializer):\n",
    "    class Meta:\n",
    "        model = Book\n",
    "        fields = '__all__'"
   ]
  },
  {
   "cell_type": "markdown",
   "metadata": {},
   "source": [
    "### views.py"
   ]
  },
  {
   "cell_type": "code",
   "execution_count": null,
   "metadata": {},
   "outputs": [],
   "source": [
    "from rest_framework import viewsets\n",
    "\n",
    "from .serializers import BookSerializer\n",
    "from .models import Book\n",
    "\n",
    "\n",
    "# class BookViewSet(viewsets.ModelViewSet):\n",
    "#     queryset = Book.objects.all()\n",
    "#     serializer_class = BookSerializer\n",
    "#     http_method_names = ['get', 'post', 'put', 'patch', 'delete']\n",
    "    \n",
    "\n",
    "class BookViewSet(viewsets.ModelViewSet):\n",
    "    queryset = Book.objects.all()\n",
    "    serializer_class = BookSerializer\n",
    "    http_method_names = ['get', 'post', 'put', 'patch', 'delete']\n",
    "    \n",
    "    def list(self, request, *args, **kwargs):\n",
    "        response = super().list(request, *kwargs, **kwargs)\n",
    "        print(\"====== list ======\")\n",
    "        return response\n",
    "\n",
    "    def create(self, request, *args, **kwargs):\n",
    "        response = super().create(request, *kwargs, **kwargs)\n",
    "        instance = self.get_object()\n",
    "        print(\"====== create ======\")\n",
    "        return response\n",
    "\n",
    "    def update(self, request, *args, **kwargs):\n",
    "        response = super().update(request, *kwargs, **kwargs)\n",
    "        instance = self.get_object()\n",
    "        print(\"====== update : {} ======\".format(instance.name))\n",
    "        return response\n",
    "    \n",
    "    def retrieve(self, request, *args, **kwargs):\n",
    "        response = super().retrieve(request, *kwargs, **kwargs)\n",
    "        instance = self.get_object()\n",
    "        print(\"====== retrieve : {} ======\".format(instance.name))\n",
    "        return response\n",
    "\n",
    "    def destroy(self, request, *args, **kwargs):\n",
    "        response = super().destroy(request, *kwargs, **kwargs)\n",
    "        instance = self.get_object()\n",
    "        print(\"====== destroy : {} ======\".format(instance.name))\n",
    "        return response\n"
   ]
  },
  {
   "cell_type": "markdown",
   "metadata": {},
   "source": [
    "### urls.py"
   ]
  },
  {
   "cell_type": "code",
   "execution_count": null,
   "metadata": {},
   "outputs": [],
   "source": [
    "from django.urls import path\n",
    "from myApp import views\n",
    "from rest_framework.routers import DefaultRouter\n",
    "\n",
    "router = DefaultRouter()\n",
    "router.register(r'book', views.BookViewSet, basename='BookViewset')\n",
    "\n",
    "urlpatterns = [\n",
    "    .\n",
    "    .\n",
    "    .\n",
    "]\n",
    "\n",
    "urlpatterns += router.urls"
   ]
  }
 ],
 "metadata": {
  "kernelspec": {
   "display_name": "Python 3",
   "language": "python",
   "name": "python3"
  },
  "language_info": {
   "codemirror_mode": {
    "name": "ipython",
    "version": 3
   },
   "file_extension": ".py",
   "mimetype": "text/x-python",
   "name": "python",
   "nbconvert_exporter": "python",
   "pygments_lexer": "ipython3",
   "version": "3.8.2"
  }
 },
 "nbformat": 4,
 "nbformat_minor": 2
}
