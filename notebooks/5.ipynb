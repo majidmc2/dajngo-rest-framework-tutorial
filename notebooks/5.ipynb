{
 "cells": [
  {
   "cell_type": "markdown",
   "metadata": {},
   "source": [
    "<img src='pic/logo.png'/>"
   ]
  },
  {
   "cell_type": "markdown",
   "metadata": {},
   "source": [
    "   # DJANGO-REST-FRAMEWORK TUTORIAL\n",
    "   \n",
    "   ## Majid Iranpour\n",
    "   ## Twitter: @_majidmc2\n",
    "   <br><br><br>\n",
    "   <hr>\n",
    "   <br><br><br>"
   ]
  },
  {
   "cell_type": "markdown",
   "metadata": {},
   "source": [
    "# Authentication"
   ]
  },
  {
   "cell_type": "markdown",
   "metadata": {},
   "source": [
    "## Create superuser:\n",
    "> python manage.py createsuperuser"
   ]
  },
  {
   "cell_type": "markdown",
   "metadata": {},
   "source": [
    "## TokenAuthentication:\n",
    "\n",
    "### settings.py"
   ]
  },
  {
   "cell_type": "code",
   "execution_count": null,
   "metadata": {},
   "outputs": [],
   "source": [
    "INSTALLED_APPS = (\n",
    "    ...\n",
    "    'rest_framework.authtoken',\n",
    ")"
   ]
  },
  {
   "cell_type": "markdown",
   "metadata": {},
   "source": [
    " >   run \"python manage.py migrate\" after changing your settings"
   ]
  },
  {
   "cell_type": "code",
   "execution_count": null,
   "metadata": {},
   "outputs": [],
   "source": [
    "REST_FRAMEWORK = {\n",
    "   'DEFAULT_AUTHENTICATION_CLASSES': (\n",
    "       'rest_framework.authentication.TokenAuthentication',\n",
    "   ),\n",
    "   'DEFAULT_PERMISSION_CLASSES': ('rest_framework.permissions.IsAdminUser',\n",
    "                       'rest_framework.permissions.IsAuthenticated'),\n",
    "}"
   ]
  },
  {
   "cell_type": "markdown",
   "metadata": {},
   "source": [
    "### urls.py"
   ]
  },
  {
   "cell_type": "code",
   "execution_count": null,
   "metadata": {},
   "outputs": [],
   "source": [
    "from rest_framework.authtoken import views\n",
    "\n",
    "urlpatterns = [\n",
    "    path('api-token-auth', views.obtain_auth_token),\n",
    "    path('api-auth', include('rest_framework.urls', namespace='rest_framework')),  # UI Page\n",
    "    ...\n",
    "]"
   ]
  },
  {
   "cell_type": "markdown",
   "metadata": {},
   "source": [
    "<img src='pic/api-token-auth.png'/>"
   ]
  },
  {
   "cell_type": "markdown",
   "metadata": {},
   "source": [
    "<img src='pic/request-with-token.png'/>"
   ]
  },
  {
   "cell_type": "markdown",
   "metadata": {},
   "source": [
    "## SessionAuthentication:\n",
    "\n",
    "### settings.py"
   ]
  },
  {
   "cell_type": "code",
   "execution_count": null,
   "metadata": {},
   "outputs": [],
   "source": [
    "REST_FRAMEWORK = {\n",
    "    'DEFAULT_AUTHENTICATION_CLASSES': (\n",
    "        'rest_framework.authentication.SessionAuthentication',\n",
    "        ...\n",
    "    ),\n",
    "    ...\n",
    "}"
   ]
  },
  {
   "cell_type": "markdown",
   "metadata": {},
   "source": [
    "# Filter Backends &  Pagination\n",
    "\n"
   ]
  },
  {
   "cell_type": "markdown",
   "metadata": {},
   "source": [
    ">  Run \"pip install django-filter\" \n",
    "### settings.py"
   ]
  },
  {
   "cell_type": "code",
   "execution_count": null,
   "metadata": {},
   "outputs": [],
   "source": [
    "INSTALLED_APPS = (\n",
    "    ...\n",
    "    'django_filters',\n",
    ")"
   ]
  },
  {
   "cell_type": "code",
   "execution_count": null,
   "metadata": {},
   "outputs": [],
   "source": [
    "REST_FRAMEWORK = {\n",
    "    \n",
    "    ...\n",
    "    \n",
    "    'DEFAULT_FILTER_BACKENDS': ('django_filters.rest_framework.DjangoFilterBackend',\n",
    "                                'rest_framework.filters.SearchFilter',\n",
    "                                'rest_framework.filters.OrderingFilter'),\n",
    "\n",
    "    'DEFAULT_PAGINATION_CLASS': 'rest_framework.pagination.LimitOffsetPagination',\n",
    "    'PAGE_SIZE': 3\n",
    "\n",
    "}"
   ]
  },
  {
   "cell_type": "markdown",
   "metadata": {},
   "source": [
    "### views.py"
   ]
  },
  {
   "cell_type": "code",
   "execution_count": null,
   "metadata": {},
   "outputs": [],
   "source": [
    "class BookViewSet(viewsets.ModelViewSet):\n",
    "    queryset = Book.objects.all()\n",
    "    serializer_class = BookSerializer\n",
    "    http_method_names = ['get', 'post', 'put', 'patch', 'delete']\n",
    "\n",
    "    search_fields = ('pages', 'name')\n",
    "    ordering_fields = '__all__'\n",
    "    \n",
    "    ...."
   ]
  },
  {
   "cell_type": "markdown",
   "metadata": {},
   "source": [
    "<img src='pic/ordering-search.png'/>"
   ]
  },
  {
   "cell_type": "markdown",
   "metadata": {},
   "source": [
    "# Create Endpoint User\n",
    "\n",
    "### serializers.py"
   ]
  },
  {
   "cell_type": "code",
   "execution_count": null,
   "metadata": {},
   "outputs": [],
   "source": [
    "from django.contrib.auth.models import User\n",
    "\n",
    "\n",
    "class UserSerializer(serializers.ModelSerializer):\n",
    "    password = serializers.CharField(write_only=True)\n",
    "\n",
    "    class Meta:\n",
    "        model = User\n",
    "        fields = '__all__'\n",
    "\n",
    "    def create(self, validated_data):\n",
    "        user = super(UserSerializer, self).create(validated_data)\n",
    "        user.set_password(validated_data['password'])\n",
    "        user.save()\n",
    "        return user"
   ]
  },
  {
   "cell_type": "markdown",
   "metadata": {},
   "source": [
    "### views.py"
   ]
  },
  {
   "cell_type": "code",
   "execution_count": null,
   "metadata": {},
   "outputs": [],
   "source": [
    "from rest_framework.permissions import AllowAny\n",
    "\n",
    "@api_view(['POST'])\n",
    "@permission_classes((AllowAny,))\n",
    "def user(request):\n",
    "    serialized = UserSerializer(data=request.data)\n",
    "    if serialized.is_valid():\n",
    "        serialized.save()\n",
    "        return Response(status=status.HTTP_201_CREATED)\n",
    "    else:\n",
    "        return Response(serialized.errors, status=status.HTTP_400_BAD_REQUEST)"
   ]
  },
  {
   "cell_type": "markdown",
   "metadata": {},
   "source": [
    "### urls.py"
   ]
  },
  {
   "cell_type": "code",
   "execution_count": null,
   "metadata": {},
   "outputs": [],
   "source": [
    "from django.urls import path\n",
    "\n",
    "\n",
    "urlpatterns = [\n",
    "    ...\n",
    "    path(r'user', views.user, name='user'),\n",
    "]"
   ]
  },
  {
   "cell_type": "markdown",
   "metadata": {},
   "source": [
    "# Permissions\n",
    "\n",
    "> Each user only can view its informations\n",
    "\n",
    "### views.py"
   ]
  },
  {
   "cell_type": "code",
   "execution_count": null,
   "metadata": {},
   "outputs": [],
   "source": [
    "from rest_framework import viewsets\n",
    "\n",
    "from rest_framework.permissions import IsAuthenticated\n",
    "from rest_framework.decorators import api_view, permission_classes\n",
    "from rest_framework.response import Response\n",
    "from rest_framework import status\n",
    "from django.contrib.auth.models import User\n",
    "\n",
    "from .permissions import IsOwner\n",
    "from .serializers import UserSerializer\n",
    "\n",
    "\n",
    "@api_view(['POST'])\n",
    "@permission_classes((IsAuthenticated, IsOwner))\n",
    "def get_user(request):\n",
    "    try:\n",
    "        employ = User.objects.get(username=request.data['username'])\n",
    "    except User.DoesNotExist:\n",
    "        return Response(status=status.HTTP_404_NOT_FOUND)\n",
    "\n",
    "    serializer = UserSerializer(employ)\n",
    "    return Response(serializer.data, status=status.HTTP_200_OK)\n"
   ]
  },
  {
   "cell_type": "markdown",
   "metadata": {},
   "source": [
    "### permissions.py"
   ]
  },
  {
   "cell_type": "code",
   "execution_count": null,
   "metadata": {},
   "outputs": [],
   "source": [
    "from rest_framework import permissions\n",
    "from django.contrib.auth.models import User\n",
    "\n",
    "\n",
    "class IsOwner(permissions.BasePermission):\n",
    "\n",
    "    def has_permission(self, request, view):\n",
    "        try:\n",
    "            user = User.objects.get(username=request.data['username'])\n",
    "        except User.DoesNotExist:\n",
    "            return False\n",
    "\n",
    "        if request.user.is_superuser:\n",
    "            return True\n",
    "\n",
    "        if not request.user == user:\n",
    "            return False\n",
    "\n",
    "        return True\n"
   ]
  },
  {
   "cell_type": "markdown",
   "metadata": {},
   "source": [
    "### urls.py"
   ]
  },
  {
   "cell_type": "code",
   "execution_count": null,
   "metadata": {},
   "outputs": [],
   "source": [
    "from django.urls import path\n",
    "\n",
    "\n",
    "urlpatterns = [\n",
    "    ...\n",
    "    path(r'get_user', views.get_user, name='get_user'),\n",
    "]\n"
   ]
  },
  {
   "cell_type": "markdown",
   "metadata": {},
   "source": [
    "# Disable DEBUG mod\n"
   ]
  },
  {
   "cell_type": "code",
   "execution_count": null,
   "metadata": {},
   "outputs": [],
   "source": [
    "DEBUG = False\n",
    "\n",
    "ALLOWED_HOSTS = ['127.0.0.1']\n",
    "\n",
    "\n",
    ".\n",
    ".\n",
    ".\n",
    "\n",
    "\n",
    "DEFAULT_RENDERER_CLASSES = (\n",
    "    'rest_framework.renderers.JSONRenderer',\n",
    ")\n",
    "\n",
    "if DEBUG:\n",
    "    DEFAULT_RENDERER_CLASSES = DEFAULT_RENDERER_CLASSES + (\n",
    "        'rest_framework.renderers.BrowsableAPIRenderer',\n",
    "    )\n",
    "\n",
    "REST_FRAMEWORK = {\n",
    "    'DEFAULT_PERMISSION_CLASSES': (\n",
    "        'rest_framework.permissions.IsAuthenticatedOrReadOnly',\n",
    "    ),\n",
    "    'DEFAULT_RENDERER_CLASSES': DEFAULT_RENDERER_CLASSES\n",
    "}\n"
   ]
  },
  {
   "cell_type": "markdown",
   "metadata": {},
   "source": [
    "# Connect Djang0 to MySQL"
   ]
  },
  {
   "cell_type": "markdown",
   "metadata": {},
   "source": [
    "### settings.py"
   ]
  },
  {
   "cell_type": "code",
   "execution_count": null,
   "metadata": {},
   "outputs": [],
   "source": [
    "DATABASES = {\n",
    "    'default': {\n",
    "        'ENGINE': 'django.db.backends.mysql',\n",
    "        'OPTIONS': {\n",
    "            'read_default_file': '/etc/mysql/my.cnf',\n",
    "        },\n",
    "    }\n",
    "}\n",
    "\n",
    "..."
   ]
  },
  {
   "cell_type": "markdown",
   "metadata": {},
   "source": [
    "### my.cnf\n",
    "> $ sudo nano /etc/mysql/my.cnf"
   ]
  },
  {
   "cell_type": "code",
   "execution_count": null,
   "metadata": {},
   "outputs": [],
   "source": [
    "...\n",
    "\n",
    "[client]\n",
    "database = db_name\n",
    "user = db_user\n",
    "password = db_password\n",
    "default-character-set = utf8"
   ]
  }
 ],
 "metadata": {
  "kernelspec": {
   "display_name": "Python 3",
   "language": "python",
   "name": "python3"
  },
  "language_info": {
   "codemirror_mode": {
    "name": "ipython",
    "version": 3
   },
   "file_extension": ".py",
   "mimetype": "text/x-python",
   "name": "python",
   "nbconvert_exporter": "python",
   "pygments_lexer": "ipython3",
   "version": "3.8.2"
  }
 },
 "nbformat": 4,
 "nbformat_minor": 2
}
