{
 "cells": [
  {
   "cell_type": "markdown",
   "metadata": {},
   "source": [
    "<img src='pic/logo.png'/>"
   ]
  },
  {
   "cell_type": "markdown",
   "metadata": {},
   "source": [
    "   # DJANGO-REST-FRAMEWORK TUTORIAL\n",
    "\n",
    "   ## Majid Iranpour\n",
    "   ## Twitter: @_majidmc2\n",
    "   <br><br><br>\n",
    "   <hr>\n",
    "   <br><br><br>"
   ]
  },
  {
   "cell_type": "markdown",
   "metadata": {},
   "source": [
    "# What is a model?\n",
    "\n",
    "> A model is the single, definitive source of data about your data. \n",
    "> Generally, each model maps to a single database table.\n",
    "> Each model is a Python class that subclasses django.db.models.Model.\n",
    "> Each attribute of the model represents a database field.\n",
    "  \n",
    "### Example:\n"
   ]
  },
  {
   "cell_type": "code",
   "execution_count": null,
   "metadata": {
    "collapsed": true
   },
   "outputs": [],
   "source": [
    "from django.db import models\n",
    "\n",
    "class Person(models.Model):\n",
    "        first_name = models.CharField(max_length=30, null=True)\n",
    "        last_name = models.CharField(max_length=30)        "
   ]
  },
  {
   "cell_type": "markdown",
   "metadata": {},
   "source": [
    "## SQL "
   ]
  },
  {
   "cell_type": "code",
   "execution_count": null,
   "metadata": {
    "collapsed": true
   },
   "outputs": [],
   "source": [
    "CREATE TABLE myapp_person (\n",
    "\"id\" serial NOT NULL PRIMARY KEY,\n",
    "\"first_name\" varchar(30) NOT NULL,\n",
    "\"last_name\" varchar(30) NOT NULL\n",
    ");"
   ]
  },
  {
   "cell_type": "markdown",
   "metadata": {},
   "source": [
    " > The name of the table, myapp_person, is automatically derived from some model metadata."
   ]
  },
  {
   "cell_type": "markdown",
   "metadata": {},
   "source": [
    " > It can be overridden An id field is added automatically, but this behavior can be overridden."
   ]
  },
  {
   "cell_type": "markdown",
   "metadata": {},
   "source": [
    "# Fields\n",
    "\n",
    ">Fields are specified by class attributes.\n",
    "\n",
    "\n",
    "\n",
    "### Example:"
   ]
  },
  {
   "cell_type": "code",
   "execution_count": 1,
   "metadata": {
    "collapsed": true
   },
   "outputs": [
    {
     "ename": "ModuleNotFoundError",
     "evalue": "No module named 'django'",
     "output_type": "error",
     "traceback": [
      "\u001b[0;31m---------------------------------------------------------------------------\u001b[0m",
      "\u001b[0;31mModuleNotFoundError\u001b[0m                       Traceback (most recent call last)",
      "\u001b[0;32m<ipython-input-1-7fec943ea349>\u001b[0m in \u001b[0;36m<module>\u001b[0;34m\u001b[0m\n\u001b[0;32m----> 1\u001b[0;31m \u001b[0;32mfrom\u001b[0m \u001b[0mdjango\u001b[0m\u001b[0;34m.\u001b[0m\u001b[0mdb\u001b[0m \u001b[0;32mimport\u001b[0m \u001b[0mmodels\u001b[0m\u001b[0;34m\u001b[0m\u001b[0;34m\u001b[0m\u001b[0m\n\u001b[0m\u001b[1;32m      2\u001b[0m \u001b[0;34m\u001b[0m\u001b[0m\n\u001b[1;32m      3\u001b[0m \u001b[0;32mclass\u001b[0m \u001b[0mMusician\u001b[0m\u001b[0;34m(\u001b[0m\u001b[0mmodels\u001b[0m\u001b[0;34m.\u001b[0m\u001b[0mModel\u001b[0m\u001b[0;34m)\u001b[0m\u001b[0;34m:\u001b[0m\u001b[0;34m\u001b[0m\u001b[0;34m\u001b[0m\u001b[0m\n\u001b[1;32m      4\u001b[0m     \u001b[0mfirst_name\u001b[0m \u001b[0;34m=\u001b[0m \u001b[0mmodels\u001b[0m\u001b[0;34m.\u001b[0m\u001b[0mCharField\u001b[0m\u001b[0;34m(\u001b[0m\u001b[0mmax_length\u001b[0m\u001b[0;34m=\u001b[0m\u001b[0;36m50\u001b[0m\u001b[0;34m)\u001b[0m\u001b[0;34m\u001b[0m\u001b[0;34m\u001b[0m\u001b[0m\n\u001b[1;32m      5\u001b[0m     \u001b[0mlast_name\u001b[0m \u001b[0;34m=\u001b[0m \u001b[0mmodels\u001b[0m\u001b[0;34m.\u001b[0m\u001b[0mCharField\u001b[0m\u001b[0;34m(\u001b[0m\u001b[0mmax_length\u001b[0m\u001b[0;34m=\u001b[0m\u001b[0;36m50\u001b[0m\u001b[0;34m)\u001b[0m\u001b[0;34m\u001b[0m\u001b[0;34m\u001b[0m\u001b[0m\n",
      "\u001b[0;31mModuleNotFoundError\u001b[0m: No module named 'django'"
     ]
    }
   ],
   "source": [
    "from django.db import models\n",
    "\n",
    "class Musician(models.Model):\n",
    "    first_name = models.CharField(max_length=50)\n",
    "    last_name = models.CharField(max_length=50)\n",
    "    rate = models.Integer()\n",
    "\n",
    "class Album(models.Model):\n",
    "    artist = models.ForeignKey(Musician, on_delete=models.CASCADE)\n",
    "    name = models.CharField(max_length=100)\n",
    "    release_date = models.DateField()\n",
    "    num_stars = models.IntegerField()"
   ]
  },
  {
   "cell_type": "markdown",
   "metadata": {},
   "source": [
    "# Field types:\n",
    "\n",
    ">Django uses the field class types to determine a few things:\n",
    "\n",
    "        \n",
    "# Field options\n",
    " \n",
    "\n",
    "## null\n",
    ">If True, Django will store empty values as NULL in the database. Default is False.\n",
    "\n",
    "## blank\n",
    ">If True, the field is allowed to be blank. Default is False.\n",
    "        \n",
    "\n",
    "## choices\n",
    "> An iterable (e.g., a list or tuple) of 2-tuples to use as choices for this field.\n",
    "         \n",
    "  "
   ]
  },
  {
   "cell_type": "code",
   "execution_count": null,
   "metadata": {
    "collapsed": true
   },
   "outputs": [],
   "source": [
    "from django.db import models\n",
    "\n",
    "class Person(models.Model):\n",
    "    SHIRT_SIZES = (\n",
    "    ('S', 'Small'),\n",
    "    ('M', 'Medium'),\n",
    "    ('L', 'Large'),\n",
    "    )\n",
    "    name = models.CharField(max_length=60)\n",
    "    shirt_size = models.CharField(max_length=1, choices=SHIRT_SIZES,def)"
   ]
  },
  {
   "cell_type": "markdown",
   "metadata": {},
   "source": [
    "## default\n",
    "\n",
    "> The default value for the field. This can be a value or a callable object.\n",
    "\n",
    "\n",
    "## help_text\n",
    "\n",
    "> Extra “help” text to be displayed with the form widget.\n",
    "\n",
    "## primary_key\n",
    "\n",
    "> If True, this field is the primary key for the model.\n",
    "By default, Django gives each model the following field:\n",
    "    id = models.AutoField(primary_key=True)\n",
    "\n",
    "## unique\n",
    "\n",
    "> If True, this field must be unique throughout the table.\n",
    "\n",
    "## Verbose field names\n",
    "> Each field type, except for ForeignKey, ManyToManyField and OneToOneField, takes an optional first positional argument – a verbose name. If the verbose name isn’t given, Django will automatically create it using the field’s attribute name, converting underscores to spaces.\n",
    "\n",
    "In this example, the verbose name is \"person's first name\":\n"
   ]
  },
  {
   "cell_type": "code",
   "execution_count": null,
   "metadata": {
    "collapsed": true
   },
   "outputs": [],
   "source": [
    "first_name = models.CharField(\"person's first name\", max_length=30)"
   ]
  },
  {
   "cell_type": "markdown",
   "metadata": {},
   "source": [
    "# Relationships\n",
    "\n",
    "\n",
    " >the three most common types of database relationships:\n",
    "    many-to-one, many-to-many and one-to-one.\n",
    "    \n",
    "## Many-to-one relationships:\n",
    "\n",
    "\n",
    "<img src=\"pic/one2many.jpg\">\n"
   ]
  },
  {
   "cell_type": "markdown",
   "metadata": {},
   "source": [
    "<img src=\"pic/defaul1.jpg\">"
   ]
  },
  {
   "cell_type": "code",
   "execution_count": null,
   "metadata": {
    "collapsed": true
   },
   "outputs": [],
   "source": [
    "from django.db import models\n",
    "\n",
    "class Person(models.Model):\n",
    "    # ...\n",
    "    pass\n",
    "\n",
    "class Car(models.Model):\n",
    "    manufacturer = models.ForeignKey(Person, on_delete=models.CASCADE)\n",
    "    # ..."
   ]
  },
  {
   "cell_type": "markdown",
   "metadata": {},
   "source": [
    "## Many-to-many relationships:\n",
    "\n",
    "<img src= \"pic/ManytoMany.svg.png\">\n",
    "\n"
   ]
  },
  {
   "cell_type": "code",
   "execution_count": null,
   "metadata": {
    "collapsed": true
   },
   "outputs": [],
   "source": [
    "from django.db import models\n",
    "\n",
    "class Topping(models.Model):\n",
    "    # ...\n",
    "    pass\n",
    "\n",
    "class Pizza(models.Model):\n",
    "    # ...\n",
    "    toppings = models.ManyToManyField(Topping)"
   ]
  },
  {
   "cell_type": "markdown",
   "metadata": {},
   "source": [
    "## One-to-one relationships\n",
    "\n",
    "\n",
    "<img src=\"pic/one2one.jpg\">\n"
   ]
  },
  {
   "cell_type": "code",
   "execution_count": null,
   "metadata": {
    "collapsed": true
   },
   "outputs": [],
   "source": [
    "class Employee(models.Model):\n",
    "    first_name = models.CharField(max_length=255)\n",
    "    last_name = models.CharField(max_length=255)\n",
    "    position = models.CharField(max_length=255)\n",
    "    office = models.CharField(max_length=20)\n",
    "    department = models.ForeignKey(Department, related_name='employees')\n",
    "    salary = models.OneToOneField(Salary)\n",
    "    pair_programmer = models.OneToOneField('self')"
   ]
  },
  {
   "cell_type": "markdown",
   "metadata": {},
   "source": [
    "# Models across files:\n",
    "\n",
    "### Example:"
   ]
  },
  {
   "cell_type": "code",
   "execution_count": null,
   "metadata": {
    "collapsed": true
   },
   "outputs": [],
   "source": [
    "from django.db import models\n",
    "from geography.models import ZipCode\n",
    "\n",
    "class Restaurant(models.Model):\n",
    "    # ...\n",
    "    zip_code = models.ForeignKey(\n",
    "        ZipCode,\n",
    "        on_delete=models.SET_NULL,\n",
    "        blank=True,\n",
    "        null=True,\n",
    "    )"
   ]
  },
  {
   "cell_type": "markdown",
   "metadata": {},
   "source": [
    "# Run a model"
   ]
  },
  {
   "cell_type": "markdown",
   "metadata": {},
   "source": [
    "### 1.start a project"
   ]
  },
  {
   "cell_type": "code",
   "execution_count": null,
   "metadata": {
    "collapsed": true
   },
   "outputs": [],
   "source": [
    "django-admin startproject project_name"
   ]
  },
  {
   "cell_type": "markdown",
   "metadata": {},
   "source": [
    "### 2.start an app"
   ]
  },
  {
   "cell_type": "code",
   "execution_count": null,
   "metadata": {
    "collapsed": true
   },
   "outputs": [],
   "source": [
    "python manage.py startapp app_name"
   ]
  },
  {
   "cell_type": "markdown",
   "metadata": {},
   "source": [
    "### 3.add the app"
   ]
  },
  {
   "cell_type": "code",
   "execution_count": null,
   "metadata": {
    "collapsed": true
   },
   "outputs": [],
   "source": [
    "INSTALLED_APPS = [\n",
    "    #...\n",
    "    'myapp',\n",
    "    #...\n",
    "    ]"
   ]
  },
  {
   "cell_type": "markdown",
   "metadata": {},
   "source": [
    "### 4.write models"
   ]
  },
  {
   "cell_type": "code",
   "execution_count": null,
   "metadata": {
    "collapsed": true
   },
   "outputs": [],
   "source": [
    "from django.db import models\n",
    "\n",
    "\n",
    "class Person(models.Model):\n",
    "    name = models.CharField(max_length=20)\n",
    "    family = models.CharField(max_length=20)\n",
    "    age = models.IntegerField()\n",
    "    birth_date = models.DateTimeField('birthday')\n",
    "\n",
    "    def __str__(self):\n",
    "        return self.name\n"
   ]
  },
  {
   "cell_type": "markdown",
   "metadata": {},
   "source": [
    "### 5.save models on database"
   ]
  },
  {
   "cell_type": "code",
   "execution_count": null,
   "metadata": {
    "collapsed": true
   },
   "outputs": [],
   "source": [
    "python manage.py makemigrations\n",
    "python manage.py migrate"
   ]
  },
  {
   "cell_type": "markdown",
   "metadata": {},
   "source": [
    "### 6.explore with Sqlite and add items"
   ]
  },
  {
   "cell_type": "markdown",
   "metadata": {},
   "source": [
    "# Making queries"
   ]
  },
  {
   "cell_type": "code",
   "execution_count": null,
   "metadata": {
    "collapsed": true
   },
   "outputs": [],
   "source": [
    "python manage.py shell"
   ]
  },
  {
   "cell_type": "code",
   "execution_count": null,
   "metadata": {
    "collapsed": true
   },
   "outputs": [],
   "source": [
    "from myApp.models import Person"
   ]
  },
  {
   "cell_type": "markdown",
   "metadata": {},
   "source": [
    "# SQL INSERT INTO Statement"
   ]
  },
  {
   "cell_type": "code",
   "execution_count": null,
   "metadata": {
    "collapsed": true
   },
   "outputs": [],
   "source": [
    "INSERT INTO table_name VALUES (value1, value2, value3, ...);\n",
    "\n",
    "INSERT INTO Person (name, family, age, birth_date) VALUES ('Cardinal', 'Erichsen', '22','Skagen 21');"
   ]
  },
  {
   "cell_type": "markdown",
   "metadata": {},
   "source": [
    "\n",
    "#### Django"
   ]
  },
  {
   "cell_type": "code",
   "execution_count": null,
   "metadata": {
    "collapsed": true
   },
   "outputs": [],
   "source": [
    "from django.utils import timezone\n",
    "\n",
    "q = Person(name=\"Majid\", family=\"Iranpour\", age=22, birth_date=timezone.now())\n",
    "\n",
    "q.save()"
   ]
  },
  {
   "cell_type": "markdown",
   "metadata": {},
   "source": [
    "# SQL SELECT Statement"
   ]
  },
  {
   "cell_type": "code",
   "execution_count": null,
   "metadata": {
    "collapsed": true
   },
   "outputs": [],
   "source": [
    "SELECT * FROM table_name;\n",
    "\n",
    "SELECT name, family FROM Person;"
   ]
  },
  {
   "cell_type": "code",
   "execution_count": null,
   "metadata": {
    "collapsed": true
   },
   "outputs": [],
   "source": [
    "Question.objects.all()"
   ]
  },
  {
   "cell_type": "code",
   "execution_count": null,
   "metadata": {
    "collapsed": true
   },
   "outputs": [],
   "source": [
    "r = Person.objects.all()[0]\n",
    "r.id\n",
    "r.name\n",
    "r.age\n",
    "r.birth_date\n",
    "\n",
    "\n",
    "######################################\n",
    "\n",
    "res = Person.objects.all()\n",
    "for i in res:\n",
    "    print(i.name)\n"
   ]
  },
  {
   "cell_type": "markdown",
   "metadata": {},
   "source": [
    "# SQL UPDATE Statement"
   ]
  },
  {
   "cell_type": "code",
   "execution_count": null,
   "metadata": {
    "collapsed": true
   },
   "outputs": [],
   "source": [
    "UPDATE Person SET name = 'Ali', age= '32' WHERE CustomerID = 1;"
   ]
  },
  {
   "cell_type": "markdown",
   "metadata": {},
   "source": [
    "#### Django"
   ]
  },
  {
   "cell_type": "code",
   "execution_count": null,
   "metadata": {},
   "outputs": [],
   "source": [
    "q=Person.objects.all()[0]\n",
    "q.name = \"Ali\"\n",
    "q.save()"
   ]
  },
  {
   "cell_type": "code",
   "execution_count": null,
   "metadata": {},
   "outputs": [],
   "source": [
    "w = \"For Fun\"\n",
    "Person.objects.all().update(name=w)"
   ]
  },
  {
   "cell_type": "markdown",
   "metadata": {},
   "source": [
    "# SQL DELETE Statement"
   ]
  },
  {
   "cell_type": "code",
   "execution_count": null,
   "metadata": {},
   "outputs": [],
   "source": [
    "DELETE FROM Person WHERE name='Ali';"
   ]
  },
  {
   "cell_type": "markdown",
   "metadata": {},
   "source": [
    "### Django"
   ]
  },
  {
   "cell_type": "code",
   "execution_count": null,
   "metadata": {},
   "outputs": [],
   "source": [
    "q=Person.objects.all()[0]\n",
    "q.delete()"
   ]
  },
  {
   "cell_type": "markdown",
   "metadata": {},
   "source": [
    "# Saving ForeignKey and ManyToManyField fields\n",
    "\n",
    "### Example:"
   ]
  },
  {
   "cell_type": "code",
   "execution_count": null,
   "metadata": {
    "collapsed": true
   },
   "outputs": [],
   "source": [
    "from django.db import models\n",
    "\n",
    "class Blog(models.Model):\n",
    "    name = models.CharField(max_length=100)\n",
    "    tagline = models.TextField()\n",
    "\n",
    "    def __str__(self):             \n",
    "        return self.name\n",
    "\n",
    "class Author(models.Model):\n",
    "    name = models.CharField(max_length=200)\n",
    "    email = models.EmailField()\n",
    "\n",
    "    def __str__(self):             \n",
    "        return self.name\n",
    "\n",
    "class Entry(models.Model):\n",
    "    blog = models.ForeignKey(Blog, on_delete=models.CASCADE)\n",
    "    authors = models.ManyToManyField(Author)\n",
    "    body_text = models.TextField()\n",
    "    pub_date = models.DateField()\n",
    "    rating = models.IntegerField()\n",
    "\n",
    "    def __str__(self):             \n",
    "        return self.body_text\n"
   ]
  },
  {
   "cell_type": "markdown",
   "metadata": {},
   "source": [
    "# Updating a ForeignKey field\n",
    "\n",
    "### Example:"
   ]
  },
  {
   "cell_type": "code",
   "execution_count": null,
   "metadata": {},
   "outputs": [],
   "source": [
    "from myApp.models import Blog, Entry\n",
    "from django.utils import timezone\n",
    "\n",
    "\n",
    "b1=Blog.objects.create(name=\"MyBlog\", tagline=\"TEST???\")\n",
    "b1.save()\n",
    "b2=Blog.objects.create(name=\"YourBlog\", tagline=\"TEST!!!\")\n",
    "b2.save()\n",
    "\n",
    "e=Entry(blog=b1, body_text=\"TEST BODY\", pub_date=timezone.now(), rating=5)\n",
    "e.save()\n"
   ]
  },
  {
   "cell_type": "code",
   "execution_count": null,
   "metadata": {
    "collapsed": true
   },
   "outputs": [],
   "source": [
    "entry = Entry.objects.get(pk=1)\n",
    "cheese_blog = Blog.objects.get(name=\"YourBlog\")\n",
    "entry.blog = cheese_blog\n",
    "entry.save()"
   ]
  },
  {
   "cell_type": "markdown",
   "metadata": {},
   "source": [
    "# Updating a ManyToManyField\n",
    "\n",
    "### Example:"
   ]
  },
  {
   "cell_type": "code",
   "execution_count": null,
   "metadata": {
    "collapsed": true
   },
   "outputs": [],
   "source": [
    "from blog.models import Author\n",
    "\n",
    "\n",
    "ali = Author.objects.create(name=\"Ali\")\n",
    "\n",
    "entry = Entry.objects.get(pk=1)\n",
    "entry.authors.add(ali)\n",
    "entry.save()"
   ]
  },
  {
   "cell_type": "markdown",
   "metadata": {
    "collapsed": true
   },
   "source": [
    "To add multiple records to a ManyToManyField in one go, include multiple arguments in the call to add(), like this:"
   ]
  },
  {
   "cell_type": "code",
   "execution_count": null,
   "metadata": {
    "collapsed": true
   },
   "outputs": [],
   "source": [
    "majid = Author.objects.create(name=\"Majid\")\n",
    "hassan = Author.objects.create(name=\"Hassan\")\n",
    "hadi = Author.objects.create(name=\"Hadi\")\n",
    "reza = Author.objects.create(name=\"Reza\")\n",
    "\n",
    "entry.authors.add(majid, hassan, hadi, reza)\n",
    "entry.save()"
   ]
  },
  {
   "cell_type": "markdown",
   "metadata": {},
   "source": [
    "# SQL WHERE Clause\n",
    "\n",
    "### Example:"
   ]
  },
  {
   "cell_type": "code",
   "execution_count": null,
   "metadata": {
    "collapsed": true
   },
   "outputs": [],
   "source": [
    "SELECT * FROM Person WHERE name='Majid';"
   ]
  },
  {
   "cell_type": "markdown",
   "metadata": {},
   "source": [
    "#### Django"
   ]
  },
  {
   "cell_type": "code",
   "execution_count": null,
   "metadata": {
    "collapsed": true
   },
   "outputs": [],
   "source": [
    "Entry.objects.filter(pub_date__year=2019)\n",
    "Entry.objects.all().filter(pub_date__year=2019)"
   ]
  },
  {
   "cell_type": "markdown",
   "metadata": {},
   "source": [
    "#### Chaining filters\n",
    "The result of refining a QuerySet is itself a QuerySet, so it’s possible to chain refinements together. For example:"
   ]
  },
  {
   "cell_type": "code",
   "execution_count": null,
   "metadata": {
    "collapsed": true
   },
   "outputs": [],
   "source": [
    "Entry.objects.filter(\n",
    "     body_text__startswith='TEST'\n",
    " ).exclude(\n",
    "     pub_date__gte=datetime.date.today()\n",
    " ).filter(\n",
    "     pub_date__gte=datetime.date(2005, 1, 30)\n",
    " )"
   ]
  },
  {
   "cell_type": "markdown",
   "metadata": {},
   "source": [
    "# Retrieving a single object with get()\n",
    "\n",
    "filter() will always give you a QuerySet, even if only a single object matches the query - in this case, it will be a QuerySet containing a single element.\n",
    "\n",
    "If you know there is only one object that matches your query, you can use the get() method on a Manager which returns the object directly:"
   ]
  },
  {
   "cell_type": "code",
   "execution_count": null,
   "metadata": {
    "collapsed": true
   },
   "outputs": [],
   "source": [
    "one_entry = Entry.objects.get(pk=1)"
   ]
  },
  {
   "cell_type": "markdown",
   "metadata": {},
   "source": [
    "# Field lookups\n",
    "\n",
    "### Example:"
   ]
  },
  {
   "cell_type": "markdown",
   "metadata": {},
   "source": [
    "#### SQL"
   ]
  },
  {
   "cell_type": "code",
   "execution_count": null,
   "metadata": {
    "collapsed": true
   },
   "outputs": [],
   "source": [
    "SELECT * FROM blog_entry WHERE pub_date <= '2006-01-01';\n",
    "SELECT ... WHERE headline = 'Cat bites dog';\n",
    "SELECT ... WHERE headline LIKE '%Lennon%';"
   ]
  },
  {
   "cell_type": "markdown",
   "metadata": {},
   "source": [
    "#### Django"
   ]
  },
  {
   "cell_type": "code",
   "execution_count": null,
   "metadata": {
    "collapsed": true
   },
   "outputs": [],
   "source": [
    "Entry.objects.filter(pub_date__lte='2006-01-01')\n",
    "Entry.objects.get(body_text__exact=\"Cat bites dog\")\n",
    "Blog.objects.get(name__iexact=\"beatles blog\")\n",
    "Blog.objects.filter(entry__headline__contains='Lennon')\n",
    "\n",
    "# Get all blog entries with id > 1\n",
    "Blog.objects.filter(pk__gt=1)"
   ]
  },
  {
   "cell_type": "markdown",
   "metadata": {},
   "source": [
    "# Many-to-many relationships\n",
    "\n",
    "### Example:"
   ]
  },
  {
   "cell_type": "code",
   "execution_count": null,
   "metadata": {
    "collapsed": true
   },
   "outputs": [],
   "source": [
    "e = Entry.objects.get(id=1)\n",
    "e.authors.all() # Returns all Author objects for this Entry.\n",
    "e.authors.count()\n",
    "e.authors.filter(name__contains='John')\n",
    "\n",
    "a = Author.objects.get(id=5)\n",
    "a.entry_set.all() # Returns all Entry objects for this Author."
   ]
  },
  {
   "cell_type": "markdown",
   "metadata": {},
   "source": [
    "# Performing raw SQL queries\n",
    "\n",
    "## Warning\n",
    "\n",
    "You should be very careful whenever you write raw SQL. Every time you use it, you should properly escape any parameters that the user can control by using params in order to protect against SQL injection attacks. Please read more about SQL injection protection."
   ]
  },
  {
   "cell_type": "code",
   "execution_count": null,
   "metadata": {},
   "outputs": [],
   "source": [
    "class Person(models.Model):\n",
    "    first_name = models.CharField(...)\n",
    "    last_name = models.CharField(...)\n",
    "    birth_date = models.DateField(...)"
   ]
  },
  {
   "cell_type": "code",
   "execution_count": null,
   "metadata": {},
   "outputs": [],
   "source": [
    "from myApp.models import Person\n",
    "\n",
    "for p in Person.objects.raw('SELECT * FROM myapp_person'):\n",
    "    print(p)\n"
   ]
  },
  {
   "cell_type": "markdown",
   "metadata": {},
   "source": [
    "# Exercise\n"
   ]
  },
  {
   "cell_type": "markdown",
   "metadata": {},
   "source": [
    "\n",
    "<img src=\"pic/model_uml.png\">"
   ]
  },
  {
   "cell_type": "code",
   "execution_count": null,
   "metadata": {},
   "outputs": [],
   "source": [
    "from django.db import models\n",
    "import uuid\n",
    "\n",
    "class Author(models.Model):\n",
    "    \"\"\"\n",
    "    Model representing an author.\n",
    "    \"\"\"\n",
    "    first_name = models.CharField(max_length=100)\n",
    "    last_name = models.CharField(max_length=100)\n",
    "    date_of_birth = models.DateField(null=True, blank=True)\n",
    "    date_of_death = models.DateField('Died', null=True, blank=True)\n",
    "\n",
    "class Genre(models.Model):\n",
    "    name= models.CharField(max_length=200, help_text=\"Enter a book genre (e.g. Science Fiction, French Poetry etc.)\")\n",
    "\n",
    "\n",
    "class Book(models.Model):\n",
    "    title= models.CharField(max_length=200)\n",
    "    author=models.ForeignKey(Author, null=True, on_delete=models.SET_NULL)\n",
    "    summary = models.TextField(max_length=1000, help_text=\"Enter a brief description of the book\")\n",
    "    isbn = models.CharField('ISBN',max_length=13, help_text='13 Character <a href=\"https://www.isbn-international.org/content/what-isbn\">ISBN number</a>')\n",
    "    genre= models.ManyToManyField(Genre, help_text=\"Select a genre for this book\")\n",
    "\n",
    "    \n",
    "class BookInstance(models.Model):\n",
    "    \"\"\"\n",
    "    Model representing a specific copy of a book (i.e. that can be borrowed from the library).\n",
    "    \"\"\"\n",
    "    id = models.UUIDField(primary_key=True, default=uuid.uuid4, help_text=\"Unique ID for this particular book across whole library\")\n",
    "    book = models.ForeignKey('Book', on_delete=models.SET_NULL, null=True)\n",
    "    imprint = models.CharField(max_length=200)\n",
    "    due_back = models.DateField(null=True, blank=True)\n",
    "\n",
    "    LOAN_STATUS = (\n",
    "        ('m', 'Maintenance'),\n",
    "        ('o', 'On loan'),\n",
    "        ('a', 'Available'),\n",
    "        ('r', 'Reserved'),\n",
    "    )\n",
    "\n",
    "    status = models.CharField(max_length=1, choices=LOAN_STATUS, blank=True, default='m', help_text='Book availability')\n",
    "\n"
   ]
  }
 ],
 "metadata": {
  "kernelspec": {
   "display_name": "Python 3",
   "language": "python",
   "name": "python3"
  },
  "language_info": {
   "codemirror_mode": {
    "name": "ipython",
    "version": 3
   },
   "file_extension": ".py",
   "mimetype": "text/x-python",
   "name": "python",
   "nbconvert_exporter": "python",
   "pygments_lexer": "ipython3",
   "version": "3.8.2"
  }
 },
 "nbformat": 4,
 "nbformat_minor": 2
}
